{
 "cells": [
  {
   "cell_type": "code",
   "execution_count": 22,
   "metadata": {},
   "outputs": [
    {
     "name": "stderr",
     "output_type": "stream",
     "text": [
      "Your max_length is set to 200, but your input_length is only 170. Since this is a summarization task, where outputs shorter than the input are typically wanted, you might consider decreasing max_length manually, e.g. summarizer('...', max_length=85)\n"
     ]
    },
    {
     "name": "stdout",
     "output_type": "stream",
     "text": [
      "https://www.youtube.com/watch?v=HQXurxLpYrI\n",
      "https://www.youtube.com/watch?v=0josiuYxau8\n",
      "https://www.youtube.com/watch?v=5oi5j11FkQg\n",
      "https://www.youtube.com/watch?v=wL9XopHoevU\n",
      "https://www.youtube.com/watch?v=tjlKrVuFES8\n",
      "https://www.youtube.com/watch?v=LQyFshgm-hU\n",
      "https://www.youtube.com/watch?v=2nUuvm5H12Q\n",
      "https://www.youtube.com/watch?v=JS6lve_qHuI\n",
      "https://www.youtube.com/watch?v=VgbDPfnUyRc\n",
      "https://www.youtube.com/watch?v=IrcN3yxzuhI\n",
      "https://www.youtube.com/watch?v=adLj6kygwds\n",
      "https://www.youtube.com/watch?v=KS8qOuxyJBs\n",
      "https://www.youtube.com/watch?v=Q-1rlaR8PZs\n",
      "https://www.youtube.com/watch?v=ZvPrn3aBQG8\n",
      "https://www.youtube.com/watch?v=hwmf73Bwky8\n",
      "https://www.youtube.com/watch?v=PiNIYhgd0g0\n",
      "https://www.youtube.com/watch?v=OxA-bqDPK74\n",
      "https://www.youtube.com/watch?v=BCnWQrXoHeo\n",
      "https://www.youtube.com/watch?v=QAsnpR6bqQo\n",
      "https://www.youtube.com/watch?v=FINrb4JHkoE\n",
      "https://www.youtube.com/watch?v=LEHR8YQNm_Q\n",
      "https://www.youtube.com/watch?v=gwukMqwBB_s\n",
      "https://www.youtube.com/watch?v=Fr5EMXZaujc\n",
      "https://www.youtube.com/watch?v=10KqhXbbLzs\n",
      "https://www.youtube.com/watch?v=IgYUR7aFY-c\n",
      "https://www.youtube.com/watch?v=lDFHLJx5bHI\n",
      "https://www.youtube.com/watch?v=_7pWP89C6rg\n",
      "https://www.youtube.com/watch?v=qT1Ml_3aXBc\n",
      "https://www.youtube.com/watch?v=RW9bTNHavhY\n",
      "https://www.youtube.com/watch?v=mFIliUCWxew\n"
     ]
    }
   ],
   "source": [
    "import urllib\n",
    "import re\n",
    "import ssl\n",
    "from nltk.corpus import stopwords\n",
    "from transformers import pipeline\n",
    "from transformers import AutoTokenizer, AutoModelForSeq2SeqLM\n",
    "\n",
    "pipe = pipeline(\"summarization\", model=\"google-t5/t5-small\")\n",
    "tokenizer = AutoTokenizer.from_pretrained(\"google-t5/t5-small\")\n",
    "model = AutoModelForSeq2SeqLM.from_pretrained(\"google-t5/t5-small\")\n",
    "\n",
    "ssl._create_default_https_context = ssl._create_unverified_context\n",
    "stopwords_ = stopwords.words('english')\n",
    "\n",
    "text = \"\"\"\n",
    "The behavior of all objects can be described by saying that objects tend to \"keep on doing what they're doing\" (unless acted upon by an unbalanced force). If at rest, they will continue in this same state of rest. If in motion with an eastward velocity of 5 m/s, they will continue in this same state of motion (5 m/s, East). If in motion with a leftward velocity of 2 m/s, they will continue in this same state of motion (2 m/s, left). The state of motion of an object is maintained as long as the object is not acted upon by an unbalanced force. All objects resist changes in their state of motion - they tend to \"keep on doing what they're doing.\"\n",
    "\"\"\"\n",
    "out = pipe(text)[0]['summary_text']\n",
    "\n",
    "search_keyword = \"+\".join([re.sub('[^A-Za-z0-9]+', '',w) for w in out.split(' ')])\n",
    "\n",
    "html = urllib.request.urlopen(\"https://www.youtube.com/results?search_query=\" + search_keyword)\n",
    "unq_list = []\n",
    "video_ids = [unq_list.append(id_) for id_ in re.findall(r\"watch\\?v=(\\S{11})\", html.read().decode()) if id_ not in unq_list]\n",
    "\n",
    "for id_ in unq_list:\n",
    "    print(\"https://www.youtube.com/watch?v=\"+id_)"
   ]
  },
  {
   "cell_type": "code",
   "execution_count": 24,
   "metadata": {},
   "outputs": [
    {
     "name": "stderr",
     "output_type": "stream",
     "text": [
      "Your max_length is set to 200, but your input_length is only 170. Since this is a summarization task, where outputs shorter than the input are typically wanted, you might consider decreasing max_length manually, e.g. summarizer('...', max_length=85)\n"
     ]
    },
    {
     "data": {
      "text/plain": [
       "['https://www.youtube.com/watch?v=5oi5j11FkQg',\n",
       " 'https://www.youtube.com/watch?v=HQXurxLpYrI',\n",
       " 'https://www.youtube.com/watch?v=0josiuYxau8',\n",
       " 'https://www.youtube.com/watch?v=2nUuvm5H12Q',\n",
       " 'https://www.youtube.com/watch?v=LQyFshgm-hU',\n",
       " 'https://www.youtube.com/watch?v=wL9XopHoevU',\n",
       " 'https://www.youtube.com/watch?v=QAsnpR6bqQo',\n",
       " 'https://www.youtube.com/watch?v=tjlKrVuFES8',\n",
       " 'https://www.youtube.com/watch?v=VgbDPfnUyRc',\n",
       " 'https://www.youtube.com/watch?v=hwmf73Bwky8',\n",
       " 'https://www.youtube.com/watch?v=Q-1rlaR8PZs',\n",
       " 'https://www.youtube.com/watch?v=C_nV0EQJtsk',\n",
       " 'https://www.youtube.com/watch?v=OxA-bqDPK74',\n",
       " 'https://www.youtube.com/watch?v=adLj6kygwds',\n",
       " 'https://www.youtube.com/watch?v=IrcN3yxzuhI',\n",
       " 'https://www.youtube.com/watch?v=HLMUZim9ovM',\n",
       " 'https://www.youtube.com/watch?v=JGO_zDWmkvk',\n",
       " 'https://www.youtube.com/watch?v=PiNIYhgd0g0',\n",
       " 'https://www.youtube.com/watch?v=gwukMqwBB_s',\n",
       " 'https://www.youtube.com/watch?v=JS6lve_qHuI',\n",
       " 'https://www.youtube.com/watch?v=LEHR8YQNm_Q',\n",
       " 'https://www.youtube.com/watch?v=FINrb4JHkoE',\n",
       " 'https://www.youtube.com/watch?v=g550H4e5FCY',\n",
       " 'https://www.youtube.com/watch?v=qT1Ml_3aXBc',\n",
       " 'https://www.youtube.com/watch?v=IgYUR7aFY-c',\n",
       " 'https://www.youtube.com/watch?v=RW9bTNHavhY',\n",
       " 'https://www.youtube.com/watch?v=10KqhXbbLzs',\n",
       " 'https://www.youtube.com/watch?v=-w6oW1ut4Dw',\n",
       " 'https://www.youtube.com/watch?v=_CgECGT1L2A',\n",
       " 'https://www.youtube.com/watch?v=lDFHLJx5bHI']"
      ]
     },
     "execution_count": 24,
     "metadata": {},
     "output_type": "execute_result"
    }
   ],
   "source": [
    "from video_urls import ai_in_video\n",
    "video_urls = ai_in_video()\n",
    "video_urls.fetch_urls(text)"
   ]
  },
  {
   "cell_type": "code",
   "execution_count": null,
   "metadata": {},
   "outputs": [],
   "source": []
  }
 ],
 "metadata": {
  "kernelspec": {
   "display_name": "hiring",
   "language": "python",
   "name": "python3"
  },
  "language_info": {
   "codemirror_mode": {
    "name": "ipython",
    "version": 3
   },
   "file_extension": ".py",
   "mimetype": "text/x-python",
   "name": "python",
   "nbconvert_exporter": "python",
   "pygments_lexer": "ipython3",
   "version": "3.10.13"
  }
 },
 "nbformat": 4,
 "nbformat_minor": 2
}
